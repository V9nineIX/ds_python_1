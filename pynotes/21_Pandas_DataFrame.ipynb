{
 "cells": [
  {
   "cell_type": "markdown",
   "metadata": {},
   "source": [
    "# DataScience Course $\\circ$ Pandas $\\circ$ Series & DataFrame\n",
    "By Dr Boontawee Suntisrivaraporn  \n",
    "<img src=\"https://1.bp.blogspot.com/-J1gxIX6Cp9w/Wy-lUTT-LqI/AAAAAAADIss/i8oWgsmB9OY8nRMc21XH_BA7AUCGkuGFgCLcBGAs/s1600/logo2.jpg\" width=600> \n",
    "<hr>"
   ]
  },
  {
   "cell_type": "markdown",
   "metadata": {},
   "source": [
    "### Topics\n",
    "- pd.Series\n",
    "- pd.DataFrame\n",
    "    - create dataframe\n",
    "    - dataframe from file\n",
    "    - dataframe to file\n",
    "- indexing, slicing\n",
    "- `loc[]` and `iloc[]`"
   ]
  },
  {
   "cell_type": "markdown",
   "metadata": {},
   "source": [
    "### Using pandas\n",
    "\n",
    "To install the package, use command `pip install` or `conda install`:\n",
    "\n",
    "```$> pip install pandas```\n",
    "\n",
    "Once installed (this should have been done on all your machine), you can import numpy and start using it\n",
    "\n",
    "```python \n",
    "import pandas as pd\n",
    "```"
   ]
  },
  {
   "cell_type": "code",
   "execution_count": 32,
   "metadata": {},
   "outputs": [],
   "source": [
    "import numpy as np\n",
    "import pandas as pd\n",
    "import seaborn as sns\n",
    "%matplotlib inline\n",
    "\n",
    "labels = ['a', 'b', 'c']\n",
    "values = [20, 40, 60]\n",
    "dct = {\n",
    "    'a' : 20,\n",
    "    'b' : 40,\n",
    "    'c' : 60\n",
    "}\n",
    "\n",
    "\n",
    "ls_cities = ['Bangkok', 'Rayong', 'Chonburi', 'SamutPrakan', 'ChiangMai', 'Phuket']\n",
    "s_pop = pd.Series(\n",
    "    [8515212, 855778, 1609883, 1941323, 1725580, 531112],\n",
    "    ls_cities\n",
    ")\n",
    "# gross provincial product\n",
    "s_gpp = pd.Series(\n",
    "    [3975275, 90566, 73708, 68392, 18413, 13328],\n",
    "    ls_cities\n",
    ")\n",
    "s_gpp_pct = pd.Series(\n",
    "    [30.792, 7.015, 5.709, 5.298, 1.426, 1.032],\n",
    "    ls_cities\n",
    ")"
   ]
  },
  {
   "cell_type": "markdown",
   "metadata": {},
   "source": [
    "## $\\Rightarrow$ Walk-through coding\n",
    "Pay attention to the class and then code through, step by step"
   ]
  },
  {
   "cell_type": "code",
   "execution_count": null,
   "metadata": {},
   "outputs": [],
   "source": []
  },
  {
   "cell_type": "markdown",
   "metadata": {},
   "source": [
    "### pd.Series\n",
    "Roughly a one-dimentional numpy array with data labels; or\n",
    "a dictionary with ordering"
   ]
  },
  {
   "cell_type": "code",
   "execution_count": null,
   "metadata": {},
   "outputs": [],
   "source": []
  },
  {
   "cell_type": "markdown",
   "metadata": {},
   "source": [
    "Reference by labels, if not found by ordered index"
   ]
  },
  {
   "cell_type": "code",
   "execution_count": null,
   "metadata": {},
   "outputs": [],
   "source": []
  },
  {
   "cell_type": "markdown",
   "metadata": {},
   "source": [
    "When implicit/explicit index is to be used, it's safe to write the code clearly so..."
   ]
  },
  {
   "cell_type": "code",
   "execution_count": null,
   "metadata": {},
   "outputs": [],
   "source": []
  },
  {
   "cell_type": "markdown",
   "metadata": {},
   "source": [
    "`loc[]` for explicit indexing/slicing (i.e. using visible labels)"
   ]
  },
  {
   "cell_type": "code",
   "execution_count": 33,
   "metadata": {},
   "outputs": [],
   "source": [
    "# explicit indexing\n"
   ]
  },
  {
   "cell_type": "markdown",
   "metadata": {},
   "source": [
    "`iloc[]` for implicit indexing/slicing (i.e. ordered index as in array)"
   ]
  },
  {
   "cell_type": "code",
   "execution_count": 59,
   "metadata": {},
   "outputs": [],
   "source": [
    "# but implicit slicing\n"
   ]
  },
  {
   "cell_type": "markdown",
   "metadata": {},
   "source": [
    "### pd.DataFrame\n",
    "- sequence of aligned pd.Series (each of the columns)\n",
    "- two-dimentional array with flexible row labels (index) and column names\n",
    "- specializd dictionary (but with ordering), mapping key (column name) to value (pd.Series)"
   ]
  },
  {
   "cell_type": "code",
   "execution_count": null,
   "metadata": {},
   "outputs": [],
   "source": []
  },
  {
   "cell_type": "markdown",
   "metadata": {},
   "source": [
    "`pd.DataFrame` can be created in multiple ways"
   ]
  },
  {
   "cell_type": "code",
   "execution_count": null,
   "metadata": {},
   "outputs": [],
   "source": []
  },
  {
   "cell_type": "markdown",
   "metadata": {},
   "source": [
    "### Indexing and slicing data in pd.DataFrame\n",
    "Value(s) in a dataframe can be indexed in various ways:\n",
    "- argument of object, e.g. `df.gpp`\n",
    "- keys to dictionary, e.g. `df['gpp']`\n",
    "- `loc[]` for explicit indexing \n",
    "- `iloc[]` for implicit indexing "
   ]
  },
  {
   "cell_type": "code",
   "execution_count": null,
   "metadata": {},
   "outputs": [],
   "source": []
  },
  {
   "cell_type": "code",
   "execution_count": 60,
   "metadata": {},
   "outputs": [],
   "source": [
    "# explicit\n"
   ]
  },
  {
   "cell_type": "markdown",
   "metadata": {},
   "source": [
    "Slicing rows "
   ]
  },
  {
   "cell_type": "code",
   "execution_count": 61,
   "metadata": {},
   "outputs": [],
   "source": [
    "# could be confusing with indexing\n"
   ]
  },
  {
   "cell_type": "markdown",
   "metadata": {},
   "source": [
    "Slicing columns"
   ]
  },
  {
   "cell_type": "code",
   "execution_count": null,
   "metadata": {},
   "outputs": [],
   "source": []
  },
  {
   "cell_type": "markdown",
   "metadata": {},
   "source": [
    "DataFrame as 2d array"
   ]
  },
  {
   "cell_type": "code",
   "execution_count": null,
   "metadata": {},
   "outputs": [],
   "source": []
  },
  {
   "cell_type": "markdown",
   "metadata": {},
   "source": [
    "Selecting rows that match desired conditions"
   ]
  },
  {
   "cell_type": "code",
   "execution_count": null,
   "metadata": {},
   "outputs": [],
   "source": []
  },
  {
   "cell_type": "code",
   "execution_count": 63,
   "metadata": {},
   "outputs": [],
   "source": [
    "# conveniece but could be confusing with column selection\n",
    "\n"
   ]
  },
  {
   "cell_type": "markdown",
   "metadata": {},
   "source": [
    "### pd.DataFrame from/to files\n",
    "Pandas provides utilities for reading/writing structured data from various file format\n",
    "- pandas functions to read: `pd.read_csv`, `pd.read_excel`, `pd.read_sas` \n",
    "- pd.DataFrame methods to write `df.to_csv`, `df.to_excel`"
   ]
  },
  {
   "cell_type": "code",
   "execution_count": null,
   "metadata": {},
   "outputs": [],
   "source": []
  },
  {
   "cell_type": "markdown",
   "metadata": {},
   "source": [
    "<hr>\n",
    "## Finished!"
   ]
  }
 ],
 "metadata": {
  "kernelspec": {
   "display_name": "Python 3",
   "language": "python",
   "name": "python3"
  },
  "language_info": {
   "codemirror_mode": {
    "name": "ipython",
    "version": 3
   },
   "file_extension": ".py",
   "mimetype": "text/x-python",
   "name": "python",
   "nbconvert_exporter": "python",
   "pygments_lexer": "ipython3",
   "version": "3.6.4"
  }
 },
 "nbformat": 4,
 "nbformat_minor": 2
}
